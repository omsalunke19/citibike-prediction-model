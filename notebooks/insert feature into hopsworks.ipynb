{
 "cells": [
  {
   "cell_type": "code",
   "execution_count": 1,
   "id": "ee8227c0",
   "metadata": {},
   "outputs": [
    {
     "name": "stdout",
     "output_type": "stream",
     "text": [
      "2025-05-10 19:43:51,931 INFO: Initializing external client\n",
      "2025-05-10 19:43:51,931 INFO: Base URL: https://c.app.hopsworks.ai:443\n",
      "2025-05-10 19:43:55,538 INFO: Python Engine initialized.\n",
      "\n",
      "Logged in to project, explore it here https://c.app.hopsworks.ai:443/p/1215686\n",
      "Feature Group created successfully, explore it at \n",
      "https://c.app.hopsworks.ai:443/p/1215686/fs/1203311/fg/1458549\n"
     ]
    },
    {
     "name": "stderr",
     "output_type": "stream",
     "text": [
      "Uploading Dataframe: 100.00% |██████████| Rows 65666/65666 | Elapsed Time: 00:25 | Remaining Time: 00:00\n"
     ]
    },
    {
     "name": "stdout",
     "output_type": "stream",
     "text": [
      "Launching job: citibike_features_1_offline_fg_materialization\n",
      "Job started successfully, you can follow the progress at \n",
      "https://c.app.hopsworks.ai:443/p/1215686/jobs/named/citibike_features_1_offline_fg_materialization/executions\n",
      "✅ Features inserted into Hopsworks Feature Store.\n"
     ]
    }
   ],
   "source": [
    "from dotenv import load_dotenv\n",
    "import os\n",
    "import hopsworks\n",
    "import pandas as pd\n",
    "\n",
    "# Step 1: Load environment variables\n",
    "load_dotenv()\n",
    "\n",
    "# Step 2: Authenticate with Hopsworks (auto-reads API key from env)\n",
    "project = hopsworks.login()  # no arguments needed if .env is set\n",
    "fs = project.get_feature_store()\n",
    "\n",
    "# Step 3: Load your engineered feature dataset\n",
    "feature_df = pd.read_csv(\"./data/features/citibike_features.csv\", parse_dates=[\"datetime\"])\n",
    "feature_df[\"start_station_id\"] = feature_df[\"start_station_id\"].astype(str)\n",
    "\n",
    "# Step 4: Create or fetch Feature Group\n",
    "fg = fs.get_or_create_feature_group(\n",
    "    name=\"citibike_features\",\n",
    "    version=1,\n",
    "    primary_key=[\"start_station_id\", \"datetime\"],\n",
    "    description=\"Hourly Citi Bike features: lag, rolling, calendar\"\n",
    ")\n",
    "\n",
    "# Step 5: Insert the data\n",
    "fg.insert(feature_df)\n",
    "print(\"✅ Features inserted into Hopsworks Feature Store.\")\n"
   ]
  },
  {
   "cell_type": "code",
   "execution_count": null,
   "id": "85b56294",
   "metadata": {},
   "outputs": [],
   "source": []
  }
 ],
 "metadata": {
  "kernelspec": {
   "display_name": "venv",
   "language": "python",
   "name": "python3"
  },
  "language_info": {
   "codemirror_mode": {
    "name": "ipython",
    "version": 3
   },
   "file_extension": ".py",
   "mimetype": "text/x-python",
   "name": "python",
   "nbconvert_exporter": "python",
   "pygments_lexer": "ipython3",
   "version": "3.11.9"
  }
 },
 "nbformat": 4,
 "nbformat_minor": 5
}
