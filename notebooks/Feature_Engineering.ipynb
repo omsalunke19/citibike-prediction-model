{
 "cells": [
  {
   "cell_type": "code",
   "execution_count": 1,
   "id": "395f1f24",
   "metadata": {},
   "outputs": [
    {
     "name": "stdout",
     "output_type": "stream",
     "text": [
      "✅ Feature file saved: ./data/features/citibike_features.csv\n"
     ]
    }
   ],
   "source": [
    "import os\n",
    "import pandas as pd\n",
    "from glob import glob\n",
    "\n",
    "# Paths\n",
    "processed_dir = \"./data/processed/\"\n",
    "output_dir = \"./data/features/\"\n",
    "os.makedirs(output_dir, exist_ok=True)\n",
    "\n",
    "# Load only the first 10,000 rows of each cleaned file\n",
    "all_files = sorted(glob(os.path.join(processed_dir, \"*_processed.csv\")))\n",
    "df_list = [pd.read_csv(f, parse_dates=[\"started_at\"], nrows=10000) for f in all_files]\n",
    "df = pd.concat(df_list)\n",
    "\n",
    "# Round down to the hour\n",
    "df[\"datetime\"] = df[\"started_at\"].dt.floor(\"H\")\n",
    "\n",
    "# Aggregate rides per station-hour\n",
    "agg_df = df.groupby([\"start_station_id\", \"datetime\"]).size().reset_index(name=\"ride_count\")\n",
    "agg_df.sort_values([\"start_station_id\", \"datetime\"], inplace=True)\n",
    "\n",
    "# Generate lag features\n",
    "for lag in range(1, 29):\n",
    "    agg_df[f\"lag_{lag}\"] = agg_df.groupby(\"start_station_id\")[\"ride_count\"].shift(lag)\n",
    "\n",
    "# Rolling stats\n",
    "grouped = agg_df.groupby(\"start_station_id\")[\"ride_count\"]\n",
    "agg_df[\"rolling_mean_6\"] = grouped.shift(1).rolling(6).mean().reset_index(0, drop=True)\n",
    "agg_df[\"rolling_std_6\"] = grouped.shift(1).rolling(6).std().reset_index(0, drop=True)\n",
    "agg_df[\"rolling_mean_12\"] = grouped.shift(1).rolling(12).mean().reset_index(0, drop=True)\n",
    "agg_df[\"rolling_mean_24\"] = grouped.shift(1).rolling(24).mean().reset_index(0, drop=True)\n",
    "\n",
    "# Calendar features\n",
    "agg_df[\"hour\"] = agg_df[\"datetime\"].dt.hour\n",
    "agg_df[\"day\"] = agg_df[\"datetime\"].dt.day\n",
    "agg_df[\"weekday\"] = agg_df[\"datetime\"].dt.weekday\n",
    "agg_df[\"month\"] = agg_df[\"datetime\"].dt.month\n",
    "agg_df[\"is_weekend\"] = agg_df[\"weekday\"].isin([5, 6]).astype(int)\n",
    "\n",
    "# Final clean-up\n",
    "final_df = agg_df.dropna().reset_index(drop=True)\n",
    "\n",
    "# Save to CSV\n",
    "output_file = os.path.join(output_dir, \"citibike_features.csv\")\n",
    "final_df.to_csv(output_file, index=False)\n",
    "print(f\"✅ Feature file saved: {output_file}\")\n"
   ]
  }
 ],
 "metadata": {
  "kernelspec": {
   "display_name": "venv",
   "language": "python",
   "name": "python3"
  },
  "language_info": {
   "codemirror_mode": {
    "name": "ipython",
    "version": 3
   },
   "file_extension": ".py",
   "mimetype": "text/x-python",
   "name": "python",
   "nbconvert_exporter": "python",
   "pygments_lexer": "ipython3",
   "version": "3.11.9"
  }
 },
 "nbformat": 4,
 "nbformat_minor": 5
}
