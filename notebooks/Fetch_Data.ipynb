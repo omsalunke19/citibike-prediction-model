{
 "cells": [
  {
   "cell_type": "code",
   "execution_count": 3,
   "id": "f3c4b918",
   "metadata": {},
   "outputs": [
    {
     "name": "stdout",
     "output_type": "stream",
     "text": [
      "✅ All 12 monthly CSVs are already in data\\raw\n"
     ]
    }
   ],
   "source": [
    "import os\n",
    "import requests\n",
    "import zipfile\n",
    "from io import BytesIO\n",
    "from pathlib import Path\n",
    "\n",
    "# ------------------------------------------------------------------\n",
    "# Configuration\n",
    "# ------------------------------------------------------------------\n",
    "DATA_URL      = \"https://s3.amazonaws.com/tripdata/2020-citibike-tripdata.zip\"\n",
    "DOWNLOAD_PATH = Path(\"data\")                 # ./data\n",
    "EXTRACT_PATH  = DOWNLOAD_PATH / \"raw\"        # ./data/raw\n",
    "EXTRACT_PATH.mkdir(parents=True, exist_ok=True)\n",
    "\n",
    "# The 12 files we expect to end up with\n",
    "EXPECTED_FILES = [\n",
    "    f\"2020{month:02d}-citibike-tripdata_1.csv\" for month in range(1, 13)\n",
    "]\n",
    "\n",
    "# ------------------------------------------------------------------\n",
    "# Helpers\n",
    "# ------------------------------------------------------------------\n",
    "def all_csvs_present() -> bool:\n",
    "    \"\"\"Return True iff every expected CSV is already in data/raw/.\"\"\"\n",
    "    return all((EXTRACT_PATH / fname).is_file() for fname in EXPECTED_FILES)\n",
    "\n",
    "\n",
    "def fetch_and_extract_tripdata() -> None:\n",
    "    \"\"\"Download the big 2020‑data ZIP and extract only *tripdata_1.csv files.\"\"\"\n",
    "    if all_csvs_present():\n",
    "        print(\"✅ All 12 monthly CSVs are already in\", EXTRACT_PATH)\n",
    "        return\n",
    "\n",
    "    print(\"Downloading Citi Bike 2020 ZIP …\")\n",
    "    response = requests.get(DATA_URL, timeout=60)\n",
    "    response.raise_for_status()\n",
    "\n",
    "    with zipfile.ZipFile(BytesIO(response.content)) as main_zip:\n",
    "        print(\"Extracting monthly ZIP files …\")\n",
    "        for inner_zip_name in main_zip.namelist():\n",
    "            if not inner_zip_name.endswith(\".zip\"):\n",
    "                continue\n",
    "\n",
    "            with main_zip.open(inner_zip_name) as inner_zip_file:\n",
    "                with zipfile.ZipFile(BytesIO(inner_zip_file.read())) as month_zip:\n",
    "                    for member in month_zip.namelist():\n",
    "                        if member.endswith(\"_tripdata_1.csv\"):\n",
    "                            print(f\"  → {member}  (from {inner_zip_name})\")\n",
    "                            month_zip.extract(member, EXTRACT_PATH)\n",
    "\n",
    "    print(\"✅ Finished. CSVs are in\", EXTRACT_PATH)\n",
    "\n",
    "\n",
    "if __name__ == \"__main__\":\n",
    "    fetch_and_extract_tripdata()\n"
   ]
  }
 ],
 "metadata": {
  "kernelspec": {
   "display_name": "venv",
   "language": "python",
   "name": "python3"
  },
  "language_info": {
   "codemirror_mode": {
    "name": "ipython",
    "version": 3
   },
   "file_extension": ".py",
   "mimetype": "text/x-python",
   "name": "python",
   "nbconvert_exporter": "python",
   "pygments_lexer": "ipython3",
   "version": "3.11.9"
  }
 },
 "nbformat": 4,
 "nbformat_minor": 5
}
