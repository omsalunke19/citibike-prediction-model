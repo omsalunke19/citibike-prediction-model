{
 "cells": [
  {
   "cell_type": "code",
   "execution_count": 2,
   "id": "d0c03bdb",
   "metadata": {},
   "outputs": [
    {
     "name": "stdout",
     "output_type": "stream",
     "text": [
      "✅ processed: 202001-citibike-tripdata_1_processed.csv\n",
      "✅ processed: 202002-citibike-tripdata_1_processed.csv\n",
      "✅ processed: 202003-citibike-tripdata_1_processed.csv\n",
      "✅ processed: 202004-citibike-tripdata_1_processed.csv\n",
      "✅ processed: 202005-citibike-tripdata_1_processed.csv\n",
      "✅ processed: 202006-citibike-tripdata_1_processed.csv\n",
      "✅ processed: 202007-citibike-tripdata_1_processed.csv\n",
      "✅ processed: 202008-citibike-tripdata_1_processed.csv\n",
      "✅ processed: 202009-citibike-tripdata_1_processed.csv\n",
      "✅ processed: 202010-citibike-tripdata_1_processed.csv\n",
      "✅ processed: 202011-citibike-tripdata_1_processed.csv\n",
      "✅ processed: 202012-citibike-tripdata_1_processed.csv\n"
     ]
    }
   ],
   "source": [
    "import os\n",
    "import pandas as pd\n",
    "from pathlib import Path\n",
    "\n",
    "# ------------------------------------------------------------------\n",
    "# Local paths\n",
    "# ------------------------------------------------------------------\n",
    "RAW_DIR       = Path(\"data/raw\")\n",
    "PROCESSED_DIR = Path(\"data/processed\")\n",
    "PROCESSED_DIR.mkdir(parents=True, exist_ok=True)\n",
    "\n",
    "# 12 Citi Bike filenames we care about\n",
    "MONTH_FILES = [f\"2020{m:02d}-citibike-tripdata_1.csv\" for m in range(1, 13)]\n",
    "\n",
    "# ------------------------------------------------------------------\n",
    "def clean_citibike_file(fname: str) -> None:\n",
    "    \"\"\"Load RAW_DIR/fname, do basic cleaning, write to PROCESSED_DIR/*_processed.csv.\"\"\"\n",
    "    src  = RAW_DIR / fname\n",
    "    dest = PROCESSED_DIR / fname.replace(\".csv\", \"_processed.csv\")\n",
    "\n",
    "    # Skip work when we’ve already produced the processed file\n",
    "    if dest.is_file():\n",
    "        print(f\"✅ processed: {dest.name}\")\n",
    "        return\n",
    "\n",
    "    try:\n",
    "        df = pd.read_csv(src, low_memory=False)\n",
    "\n",
    "        # ── Clean & feature‑engineer ────────────────────────────────\n",
    "        dt_cols = [\"started_at\", \"ended_at\"]\n",
    "        df[dt_cols] = df[dt_cols].apply(pd.to_datetime, errors='coerce')\n",
    "\n",
    "        df.dropna(subset=dt_cols + [\"start_station_id\", \"end_station_id\"], inplace=True)\n",
    "\n",
    "        df[\"trip_duration_min\"] = (df[\"ended_at\"] - df[\"started_at\"]).dt.total_seconds() / 60.0\n",
    "\n",
    "        df[\"hour\"]    = df[\"started_at\"].dt.hour\n",
    "        df[\"day\"]     = df[\"started_at\"].dt.day\n",
    "        df[\"weekday\"] = df[\"started_at\"].dt.weekday\n",
    "        df[\"month\"]   = df[\"started_at\"].dt.month\n",
    "        df[\"year\"]    = df[\"started_at\"].dt.year\n",
    "\n",
    "        df[\"start_station_id\"] = df[\"start_station_id\"].astype(str)\n",
    "        df[\"end_station_id\"]   = df[\"end_station_id\"].astype(str)\n",
    "\n",
    "        # ── Save ────────────────────────────────────────────────────\n",
    "        df.to_csv(dest, index=False)\n",
    "        print(f\"📝 Processed → {dest.name}\")\n",
    "\n",
    "    except Exception as err:\n",
    "        print(f\"❌ Error processing {fname}: {err}\")\n",
    "\n",
    "# ------------------------------------------------------------------\n",
    "if __name__ == \"__main__\":\n",
    "    for csv in MONTH_FILES:\n",
    "        clean_citibike_file(csv)\n"
   ]
  }
 ],
 "metadata": {
  "kernelspec": {
   "display_name": "venv",
   "language": "python",
   "name": "python3"
  },
  "language_info": {
   "codemirror_mode": {
    "name": "ipython",
    "version": 3
   },
   "file_extension": ".py",
   "mimetype": "text/x-python",
   "name": "python",
   "nbconvert_exporter": "python",
   "pygments_lexer": "ipython3",
   "version": "3.11.9"
  }
 },
 "nbformat": 4,
 "nbformat_minor": 5
}
