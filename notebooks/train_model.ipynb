{
 "cells": [
  {
   "cell_type": "code",
   "execution_count": 1,
   "id": "41f3aa49",
   "metadata": {},
   "outputs": [
    {
     "name": "stderr",
     "output_type": "stream",
     "text": [
      "2025/05/10 19:45:10 INFO mlflow.tracking.fluent: Experiment with name 'CitiBikeTripPrediction' does not exist. Creating a new experiment.\n"
     ]
    },
    {
     "name": "stdout",
     "output_type": "stream",
     "text": [
      "🏃 View run baseline_model at: https://dagshub.com/omsalunke19/cda500-final.mlflow/#/experiments/0/runs/6f6a2ad4f69d4f58b726394ec209cd60\n",
      "🧪 View experiment at: https://dagshub.com/omsalunke19/cda500-final.mlflow/#/experiments/0\n",
      "[LightGBM] [Info] Auto-choosing row-wise multi-threading, the overhead of testing was 0.004837 seconds.\n",
      "You can set `force_row_wise=true` to remove the overhead.\n",
      "And if memory is not enough, you can set `force_col_wise=true`.\n",
      "[LightGBM] [Info] Total Bins 762\n",
      "[LightGBM] [Info] Number of data points in the train set: 52532, number of used features: 35\n",
      "[LightGBM] [Info] Start training from score 1.184364\n"
     ]
    },
    {
     "name": "stderr",
     "output_type": "stream",
     "text": [
      "2025/05/10 19:45:21 WARNING mlflow.models.model: Model logged without a signature and input example. Please set `input_example` parameter when logging the model to auto infer the model signature.\n"
     ]
    },
    {
     "name": "stdout",
     "output_type": "stream",
     "text": [
      "🏃 View run lightgbm_all_features at: https://dagshub.com/omsalunke19/cda500-final.mlflow/#/experiments/0/runs/08573c402b584765ad2ab96fec42f0a7\n",
      "🧪 View experiment at: https://dagshub.com/omsalunke19/cda500-final.mlflow/#/experiments/0\n",
      "[LightGBM] [Info] Auto-choosing row-wise multi-threading, the overhead of testing was 0.001168 seconds.\n",
      "You can set `force_row_wise=true` to remove the overhead.\n",
      "And if memory is not enough, you can set `force_col_wise=true`.\n",
      "[LightGBM] [Info] Total Bins 481\n",
      "[LightGBM] [Info] Number of data points in the train set: 52532, number of used features: 10\n",
      "[LightGBM] [Info] Start training from score 1.184364\n"
     ]
    },
    {
     "name": "stderr",
     "output_type": "stream",
     "text": [
      "2025/05/10 19:45:29 WARNING mlflow.models.model: Model logged without a signature and input example. Please set `input_example` parameter when logging the model to auto infer the model signature.\n"
     ]
    },
    {
     "name": "stdout",
     "output_type": "stream",
     "text": [
      "🏃 View run lightgbm_top10_features at: https://dagshub.com/omsalunke19/cda500-final.mlflow/#/experiments/0/runs/4deb22d300af4d44942e65a7aaf789ef\n",
      "🧪 View experiment at: https://dagshub.com/omsalunke19/cda500-final.mlflow/#/experiments/0\n",
      "Baseline MAE: 0.31\n",
      "LightGBM All Features MAE: 0.28\n",
      "LightGBM Top 10 Features MAE: 0.28\n"
     ]
    }
   ],
   "source": [
    "import pandas as pd\n",
    "from sklearn.model_selection import train_test_split, TimeSeriesSplit\n",
    "from sklearn.metrics import mean_absolute_error\n",
    "from lightgbm import LGBMRegressor\n",
    "import mlflow\n",
    "import os\n",
    "\n",
    "# Load feature dataset\n",
    "df = pd.read_csv(\"./data/features/citibike_features.csv\", parse_dates=[\"datetime\"])\n",
    "\n",
    "# Select features and target\n",
    "feature_cols = [col for col in df.columns if col.startswith(\"lag_\") or col.startswith(\"rolling_\") or col in [\"hour\", \"weekday\", \"is_weekend\"]]\n",
    "target_col = \"ride_count\"\n",
    "\n",
    "# Train-test split by time\n",
    "df.sort_values(\"datetime\", inplace=True)\n",
    "train_size = int(len(df) * 0.8)\n",
    "train_df = df.iloc[:train_size]\n",
    "test_df = df.iloc[train_size:]\n",
    "\n",
    "X_train = train_df[feature_cols]\n",
    "y_train = train_df[target_col]\n",
    "X_test = test_df[feature_cols]\n",
    "y_test = test_df[target_col]\n",
    "\n",
    "# Baseline model (mean)\n",
    "baseline_pred = [y_train.mean()] * len(y_test)\n",
    "baseline_mae = mean_absolute_error(y_test, baseline_pred)\n",
    "\n",
    "mlflow.set_experiment(\"CitiBikeTripPrediction\")\n",
    "with mlflow.start_run(run_name=\"baseline_model\"):\n",
    "    mlflow.log_metric(\"mae\", baseline_mae)\n",
    "    mlflow.log_param(\"model_type\", \"mean_baseline\")\n",
    "\n",
    "# Model 1: LightGBM with all features\n",
    "model1 = LGBMRegressor(n_estimators=100, random_state=42)\n",
    "model1.fit(X_train, y_train)\n",
    "pred1 = model1.predict(X_test)\n",
    "mae1 = mean_absolute_error(y_test, pred1)\n",
    "\n",
    "with mlflow.start_run(run_name=\"lightgbm_all_features\") as run1:\n",
    "    mlflow.log_metric(\"mae\", mae1)\n",
    "    mlflow.log_params(model1.get_params())\n",
    "    mlflow.sklearn.log_model(model1, \"model\")\n",
    "\n",
    "# Model 2: Top 10 important features\n",
    "importances = pd.Series(model1.feature_importances_, index=feature_cols).sort_values(ascending=False)\n",
    "top10_features = importances.head(10).index.tolist()\n",
    "\n",
    "model2 = LGBMRegressor(n_estimators=100, random_state=42)\n",
    "model2.fit(X_train[top10_features], y_train)\n",
    "pred2 = model2.predict(X_test[top10_features])\n",
    "mae2 = mean_absolute_error(y_test, pred2)\n",
    "\n",
    "with mlflow.start_run(run_name=\"lightgbm_top10_features\") as run2:\n",
    "    mlflow.log_metric(\"mae\", mae2)\n",
    "    mlflow.log_params(model2.get_params())\n",
    "    mlflow.sklearn.log_model(model2, \"model\")\n",
    "\n",
    "print(f\"Baseline MAE: {baseline_mae:.2f}\")\n",
    "print(f\"LightGBM All Features MAE: {mae1:.2f}\")\n",
    "print(f\"LightGBM Top 10 Features MAE: {mae2:.2f}\")\n"
   ]
  }
 ],
 "metadata": {
  "kernelspec": {
   "display_name": "venv",
   "language": "python",
   "name": "python3"
  },
  "language_info": {
   "codemirror_mode": {
    "name": "ipython",
    "version": 3
   },
   "file_extension": ".py",
   "mimetype": "text/x-python",
   "name": "python",
   "nbconvert_exporter": "python",
   "pygments_lexer": "ipython3",
   "version": "3.11.9"
  }
 },
 "nbformat": 4,
 "nbformat_minor": 5
}
