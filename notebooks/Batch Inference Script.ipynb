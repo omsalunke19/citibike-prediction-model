{
 "cells": [
  {
   "cell_type": "code",
   "execution_count": 8,
   "id": "44e959c6",
   "metadata": {},
   "outputs": [
    {
     "data": {
      "application/vnd.jupyter.widget-view+json": {
       "model_id": "1eb7d5bd0bbf4b069daad4f55465a732",
       "version_major": 2,
       "version_minor": 0
      },
      "text/plain": [
       "Downloading artifacts:   0%|          | 0/5 [00:00<?, ?it/s]"
      ]
     },
     "metadata": {},
     "output_type": "display_data"
    },
    {
     "name": "stdout",
     "output_type": "stream",
     "text": [
      "✅ Predictions saved to ./data/predictions/predictions.csv\n"
     ]
    },
    {
     "name": "stderr",
     "output_type": "stream",
     "text": [
      "C:\\Users\\omsal\\AppData\\Local\\Temp\\ipykernel_25472\\1561549522.py:33: SettingWithCopyWarning: \n",
      "A value is trying to be set on a copy of a slice from a DataFrame.\n",
      "Try using .loc[row_indexer,col_indexer] = value instead\n",
      "\n",
      "See the caveats in the documentation: https://pandas.pydata.org/pandas-docs/stable/user_guide/indexing.html#returning-a-view-versus-a-copy\n",
      "  recent_df[\"predicted_ride_count\"] = model.predict(X_recent)\n"
     ]
    }
   ],
   "source": [
    "import pandas as pd\n",
    "import mlflow\n",
    "import joblib\n",
    "from dotenv import load_dotenv\n",
    "import os\n",
    "\n",
    "# Step 1: Load environment variables\n",
    "load_dotenv()\n",
    "mlflow.set_tracking_uri(os.getenv(\"MLFLOW_TRACKING_URI\"))\n",
    "mlflow.set_experiment(\"CitiBikeTripPrediction\")\n",
    "\n",
    "# Step 2: Load your feature dataset\n",
    "df = pd.read_csv(\"./data/features/citibike_features.csv\", parse_dates=[\"datetime\"])\n",
    "df = df.sort_values(\"datetime\")\n",
    "\n",
    "# Step 3: Select recent time window for inference\n",
    "recent_df = df.groupby(\"start_station_id\").tail(48)  # last 48 hours per station\n",
    "\n",
    "feature_cols = [col for col in df.columns if col.startswith(\"lag_\") or \n",
    "                col.startswith(\"rolling_\") or col in [\"hour\", \"weekday\", \"is_weekend\"]]\n",
    "X_recent = recent_df[feature_cols]\n",
    "\n",
    "# Step 4: Load best model from MLflow (DagsHub)\n",
    "client = mlflow.tracking.MlflowClient()\n",
    "experiment = client.get_experiment_by_name(\"CitiBikeTripPrediction\")\n",
    "runs = client.search_runs(experiment.experiment_id, order_by=[\"metrics.mae ASC\"], max_results=1)\n",
    "best_run_id = runs[0].info.run_id\n",
    "model_uri = f\"runs:/{best_run_id}/model\"\n",
    "\n",
    "model = mlflow.pyfunc.load_model(model_uri)\n",
    "\n",
    "# Step 5: Predict\n",
    "recent_df[\"predicted_ride_count\"] = model.predict(X_recent)\n",
    "\n",
    "# Step 6: Save predictions\n",
    "output_path = \"./data/predictions/predictions.csv\"\n",
    "os.makedirs(os.path.dirname(output_path), exist_ok=True)\n",
    "recent_df[[\"start_station_id\", \"datetime\", \"predicted_ride_count\"]].to_csv(output_path, index=False)\n",
    "\n",
    "print(f\"✅ Predictions saved to {output_path}\")\n"
   ]
  }
 ],
 "metadata": {
  "kernelspec": {
   "display_name": "venv",
   "language": "python",
   "name": "python3"
  },
  "language_info": {
   "codemirror_mode": {
    "name": "ipython",
    "version": 3
   },
   "file_extension": ".py",
   "mimetype": "text/x-python",
   "name": "python",
   "nbconvert_exporter": "python",
   "pygments_lexer": "ipython3",
   "version": "3.11.9"
  }
 },
 "nbformat": 4,
 "nbformat_minor": 5
}
